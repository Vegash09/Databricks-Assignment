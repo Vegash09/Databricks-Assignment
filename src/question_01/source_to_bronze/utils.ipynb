{
 "cells": [
  {
   "cell_type": "code",
   "execution_count": 0,
   "metadata": {
    "application/vnd.databricks.v1+cell": {
     "cellMetadata": {
      "byteLimit": 2048000,
      "rowLimit": 10000
     },
     "inputWidgets": {},
     "nuid": "39260fc8-fd54-4145-97a2-c95f16bc90c4",
     "showTitle": false,
     "tableResultSettingsMap": {},
     "title": ""
    }
   },
   "outputs": [],
   "source": [
    "from pyspark.sql.functions import udf, col, current_date\n",
    "from pyspark.sql.types import StringType\n",
    "import re\n",
    "\n",
    "# UDF to convert camelCase to snake_case\n",
    "def camel_to_snake(name):\n",
    "    return re.sub(r'(?<!^)(?=[A-Z])', '_', name).lower()\n",
    "\n",
    "camel_to_snake_udf = udf(camel_to_snake, StringType())\n",
    "\n",
    "def convert_columns_to_snake(df):\n",
    "    for col_name in df.columns:\n",
    "        df = df.withColumnRenamed(col_name, camel_to_snake(col_name))\n",
    "    return df\n",
    "\n",
    "def add_load_date(df):\n",
    "    return df.withColumn(\"load_date\", current_date())\n",
    "\n",
    "def add_at_load_date(df):\n",
    "    return df.withColumn(\"at_load_date\", current_date())\n"
   ]
  }
 ],
 "metadata": {
  "application/vnd.databricks.v1+notebook": {
   "computePreferences": null,
   "dashboards": [],
   "environmentMetadata": {
    "base_environment": "",
    "environment_version": "2"
   },
   "inputWidgetPreferences": null,
   "language": "python",
   "notebookMetadata": {
    "pythonIndentUnit": 4
   },
   "notebookName": "utils",
   "widgets": {}
  },
  "language_info": {
   "name": "python"
  }
 },
 "nbformat": 4,
 "nbformat_minor": 0
}
