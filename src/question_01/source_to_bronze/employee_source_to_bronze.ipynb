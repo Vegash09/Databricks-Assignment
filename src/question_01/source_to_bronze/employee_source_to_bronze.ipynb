{
 "cells": [
  {
   "cell_type": "code",
   "execution_count": 0,
   "metadata": {
    "application/vnd.databricks.v1+cell": {
     "cellMetadata": {
      "byteLimit": 2048000,
      "rowLimit": 10000
     },
     "inputWidgets": {},
     "nuid": "8adba0b9-e1ca-4f94-a3a9-ec5082dff158",
     "showTitle": false,
     "tableResultSettingsMap": {},
     "title": ""
    }
   },
   "outputs": [],
   "source": [
    "%run /Workspace/Users/vegash.p@diggibyte.com/Databricks-Assignment/source_to_bronze/utils"
   ]
  },
  {
   "cell_type": "code",
   "execution_count": 0,
   "metadata": {
    "application/vnd.databricks.v1+cell": {
     "cellMetadata": {
      "byteLimit": 2048000,
      "rowLimit": 10000
     },
     "inputWidgets": {},
     "nuid": "31310205-9312-40dc-8380-4cd7ab563c17",
     "showTitle": false,
     "tableResultSettingsMap": {},
     "title": ""
    }
   },
   "outputs": [],
   "source": [
    "\n",
    "from pyspark.sql.types import *\n",
    "\n",
    "# Define schema\n",
    "employee_schema = StructType([\n",
    "    StructField(\"EmployeeID\", IntegerType(), True),\n",
    "    StructField(\"Name\", StringType(), True),\n",
    "    StructField(\"DepartmentID\", IntegerType(), True),\n",
    "    StructField(\"Age\", IntegerType(), True),\n",
    "    StructField(\"Salary\", IntegerType(), True)\n",
    "])\n",
    "\n",
    "department_schema = StructType([\n",
    "    StructField(\"DepartmentID\", IntegerType(), True),\n",
    "    StructField(\"DepartmentName\", StringType(), True)\n",
    "])\n",
    "\n",
    "country_schema = StructType([\n",
    "    StructField(\"CountryID\", IntegerType(), True),\n",
    "    StructField(\"CountryName\", StringType(), True)\n",
    "])\n",
    "\n",
    "\n",
    "employee_df = spark.read.csv(\"/Volumes/assignment/assignment_resources/source/Employee-Q1.csv\", header=True, schema=employee_schema)\n",
    "department_df = spark.read.csv(\"/Volumes/assignment/assignment_resources/source/Department-Q1.csv\", header=True, schema=department_schema)\n",
    "country_df = spark.read.csv(\"/Volumes/assignment/assignment_resources/source/Country-Q1 (1).csv\", header=True, schema=country_schema)\n",
    "\n",
    "employee_df.write.format(\"delta\").mode(\"overwrite\").saveAsTable(\"assignment.assignment_resources.employee\")\n",
    "department_df.write.format(\"delta\").mode(\"overwrite\").saveAsTable(\"assignment.assignment_resources.department\")\n",
    "country_df.write.format(\"delta\").mode(\"overwrite\").saveAsTable(\"assignment.assignment_resources.country\")\n"
   ]
  },
  {
   "cell_type": "code",
   "execution_count": 0,
   "metadata": {
    "application/vnd.databricks.v1+cell": {
     "cellMetadata": {
      "byteLimit": 2048000,
      "rowLimit": 10000
     },
     "inputWidgets": {},
     "nuid": "ef8b9ccd-5694-48b5-a836-24e49e67fb7f",
     "showTitle": false,
     "tableResultSettingsMap": {},
     "title": ""
    }
   },
   "outputs": [],
   "source": [
    "spark.sql(\"CREATE DATABASE IF NOT EXISTS assignment.assignment_resources\")\n"
   ]
  }
 ],
 "metadata": {
  "application/vnd.databricks.v1+notebook": {
   "computePreferences": null,
   "dashboards": [],
   "environmentMetadata": {
    "base_environment": "",
    "environment_version": "2"
   },
   "inputWidgetPreferences": null,
   "language": "python",
   "notebookMetadata": {
    "pythonIndentUnit": 4
   },
   "notebookName": "employee_source_to_bronze",
   "widgets": {}
  },
  "language_info": {
   "name": "python"
  }
 },
 "nbformat": 4,
 "nbformat_minor": 0
}
